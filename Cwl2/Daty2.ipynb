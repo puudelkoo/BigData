{
 "cells": [
  {
   "cell_type": "markdown",
   "metadata": {
    "application/vnd.databricks.v1+cell": {
     "cellMetadata": {},
     "inputWidgets": {},
     "nuid": "7080a470-8c29-4102-8090-a6cfc2a06f08",
     "showTitle": false,
     "tableResultSettingsMap": {},
     "title": ""
    }
   },
   "source": [
    "Użyj każdą z tych funkcji \n",
    "* `unix_timestamp()` \n",
    "* `date_format()`\n",
    "* `to_unix_timestamp()`\n",
    "* `from_unixtime()`\n",
    "* `to_date()` \n",
    "* `to_timestamp()` \n",
    "* `from_utc_timestamp()` \n",
    "* `to_utc_timestamp()`"
   ]
  },
  {
   "cell_type": "code",
   "execution_count": 0,
   "metadata": {
    "application/vnd.databricks.v1+cell": {
     "cellMetadata": {
      "byteLimit": 2048000,
      "rowLimit": 10000
     },
     "inputWidgets": {},
     "nuid": "6f9776f7-6073-41f0-8f38-0490f0788c93",
     "showTitle": false,
     "tableResultSettingsMap": {},
     "title": ""
    }
   },
   "outputs": [
    {
     "output_type": "display_data",
     "data": {
      "text/html": [
       "<style scoped>\n",
       "  .table-result-container {\n",
       "    max-height: 300px;\n",
       "    overflow: auto;\n",
       "  }\n",
       "  table, th, td {\n",
       "    border: 1px solid black;\n",
       "    border-collapse: collapse;\n",
       "  }\n",
       "  th, td {\n",
       "    padding: 5px;\n",
       "  }\n",
       "  th {\n",
       "    text-align: left;\n",
       "  }\n",
       "</style><div class='table-result-container'><table class='table-result'><thead style='background-color: white'><tr><th>timestamp</th><th>unix</th><th>Date</th><th>current_date</th><th>current_timestamp</th></tr></thead><tbody><tr><td>2015-03-22T14:13:34</td><td>1646641525847</td><td>May, 2021</td><td>2025-03-18</td><td>2025-03-18T17:30:39.926+0000</td></tr><tr><td>2015-03-22T15:03:18</td><td>1646641557555</td><td>Mar, 2021</td><td>2025-03-18</td><td>2025-03-18T17:30:39.926+0000</td></tr><tr><td>2015-03-22T14:38:39</td><td>1646641578622</td><td>Jan, 2021</td><td>2025-03-18</td><td>2025-03-18T17:30:39.926+0000</td></tr></tbody></table></div>"
      ]
     },
     "metadata": {
      "application/vnd.databricks.v1+output": {
       "addedWidgets": {},
       "aggData": [],
       "aggError": "",
       "aggOverflow": false,
       "aggSchema": [],
       "aggSeriesLimitReached": false,
       "aggType": "",
       "arguments": {},
       "columnCustomDisplayInfos": {},
       "data": [
        [
         "2015-03-22T14:13:34",
         1646641525847,
         "May, 2021",
         "2025-03-18",
         "2025-03-18T17:30:39.926+0000"
        ],
        [
         "2015-03-22T15:03:18",
         1646641557555,
         "Mar, 2021",
         "2025-03-18",
         "2025-03-18T17:30:39.926+0000"
        ],
        [
         "2015-03-22T14:38:39",
         1646641578622,
         "Jan, 2021",
         "2025-03-18",
         "2025-03-18T17:30:39.926+0000"
        ]
       ],
       "datasetInfos": [],
       "dbfsResultPath": null,
       "isJsonSchema": true,
       "metadata": {},
       "overflow": false,
       "plotOptions": {
        "customPlotOptions": {},
        "displayType": "table",
        "pivotAggregation": null,
        "pivotColumns": null,
        "xColumns": null,
        "yColumns": null
       },
       "removedWidgets": [],
       "schema": [
        {
         "metadata": "{}",
         "name": "timestamp",
         "type": "\"string\""
        },
        {
         "metadata": "{}",
         "name": "unix",
         "type": "\"long\""
        },
        {
         "metadata": "{}",
         "name": "Date",
         "type": "\"string\""
        },
        {
         "metadata": "{}",
         "name": "current_date",
         "type": "\"date\""
        },
        {
         "metadata": "{}",
         "name": "current_timestamp",
         "type": "\"timestamp\""
        }
       ],
       "type": "table"
      }
     },
     "output_type": "display_data"
    }
   ],
   "source": [
    "from pyspark.sql.functions import current_date, current_timestamp\n",
    "\n",
    "kolumny = [\"timestamp\", \"unix\", \"Date\"]\n",
    "dane = [(\"2015-03-22T14:13:34\", 1646641525847, \"May, 2021\"),\n",
    "        (\"2015-03-22T15:03:18\", 1646641557555, \"Mar, 2021\"),\n",
    "        (\"2015-03-22T14:38:39\", 1646641578622, \"Jan, 2021\")]\n",
    "\n",
    "dataFrame = spark.createDataFrame(dane, kolumny) \\\n",
    "    .withColumn(\"current_date\", current_date()) \\\n",
    "    .withColumn(\"current_timestamp\", current_timestamp())\n",
    "\n",
    "display(dataFrame)"
   ]
  },
  {
   "cell_type": "code",
   "execution_count": 0,
   "metadata": {
    "application/vnd.databricks.v1+cell": {
     "cellMetadata": {
      "byteLimit": 2048000,
      "rowLimit": 10000
     },
     "inputWidgets": {},
     "nuid": "bfc884ee-94a0-456b-9212-48b7bcaac341",
     "showTitle": false,
     "tableResultSettingsMap": {},
     "title": ""
    }
   },
   "outputs": [
    {
     "output_type": "stream",
     "name": "stdout",
     "output_type": "stream",
     "text": [
      "root\n |-- timestamp: string (nullable = true)\n |-- unix: long (nullable = true)\n |-- Date: string (nullable = true)\n |-- current_date: date (nullable = false)\n |-- current_timestamp: timestamp (nullable = false)\n\n"
     ]
    }
   ],
   "source": [
    "\n",
    "dataFrame.printSchema()"
   ]
  },
  {
   "cell_type": "markdown",
   "metadata": {
    "application/vnd.databricks.v1+cell": {
     "cellMetadata": {},
     "inputWidgets": {},
     "nuid": "5b0f5676-af9a-4c46-9e90-b4270f30f222",
     "showTitle": false,
     "tableResultSettingsMap": {},
     "title": ""
    }
   },
   "source": [
    "## unix_timestamp(..) & cast(..)"
   ]
  },
  {
   "cell_type": "markdown",
   "metadata": {
    "application/vnd.databricks.v1+cell": {
     "cellMetadata": {},
     "inputWidgets": {},
     "nuid": "da2c85c6-dc7c-4519-a586-411a8fc3a0ad",
     "showTitle": false,
     "tableResultSettingsMap": {},
     "title": ""
    }
   },
   "source": [
    "Konwersja **string** to a **timestamp**.\n",
    "\n",
    "Lokalizacja funkcji \n",
    "* `pyspark.sql.functions` in the case of Python\n",
    "* `org.apache.spark.sql.functions` in the case of Scala & Java"
   ]
  },
  {
   "cell_type": "markdown",
   "metadata": {
    "application/vnd.databricks.v1+cell": {
     "cellMetadata": {},
     "inputWidgets": {},
     "nuid": "29619a12-2790-4d54-bd50-abf02531a3c7",
     "showTitle": false,
     "tableResultSettingsMap": {},
     "title": ""
    }
   },
   "source": [
    "## 1. Zmiana formatu wartości timestamp yyyy-MM-dd'T'HH:mm:ss \n",
    "`unix_timestamp(..)`\n",
    "\n",
    "Dokumentacja API `unix_timestamp(..)`:\n",
    "> Convert time string with given pattern (see <a href=\"http://docs.oracle.com/javase/tutorial/i18n/format/simpleDateFormat.html\" target=\"_blank\">SimpleDateFormat</a>) to Unix time stamp (in seconds), return null if fail.\n",
    "\n",
    "`SimpleDataFormat` is part of the Java API and provides support for parsing and formatting date and time values."
   ]
  },
  {
   "cell_type": "code",
   "execution_count": 0,
   "metadata": {
    "application/vnd.databricks.v1+cell": {
     "cellMetadata": {
      "byteLimit": 2048000,
      "rowLimit": 10000
     },
     "inputWidgets": {},
     "nuid": "1a88bca0-2ce7-4a7b-b332-d53e84fe79ae",
     "showTitle": false,
     "tableResultSettingsMap": {},
     "title": ""
    }
   },
   "outputs": [
    {
     "output_type": "display_data",
     "data": {
      "text/html": [
       "<style scoped>\n",
       "  .table-result-container {\n",
       "    max-height: 300px;\n",
       "    overflow: auto;\n",
       "  }\n",
       "  table, th, td {\n",
       "    border: 1px solid black;\n",
       "    border-collapse: collapse;\n",
       "  }\n",
       "  th, td {\n",
       "    padding: 5px;\n",
       "  }\n",
       "  th {\n",
       "    text-align: left;\n",
       "  }\n",
       "</style><div class='table-result-container'><table class='table-result'><thead style='background-color: white'><tr><th>timestamp</th><th>unix</th><th>Date</th><th>current_date</th><th>current_timestamp</th><th>timestamp_unix</th></tr></thead><tbody><tr><td>2015-03-22T14:13:34</td><td>1646641525847</td><td>May, 2021</td><td>2025-03-18</td><td>2025-03-18T17:31:51.622+0000</td><td>1427033614</td></tr><tr><td>2015-03-22T15:03:18</td><td>1646641557555</td><td>Mar, 2021</td><td>2025-03-18</td><td>2025-03-18T17:31:51.622+0000</td><td>1427036598</td></tr><tr><td>2015-03-22T14:38:39</td><td>1646641578622</td><td>Jan, 2021</td><td>2025-03-18</td><td>2025-03-18T17:31:51.622+0000</td><td>1427035119</td></tr></tbody></table></div>"
      ]
     },
     "metadata": {
      "application/vnd.databricks.v1+output": {
       "addedWidgets": {},
       "aggData": [],
       "aggError": "",
       "aggOverflow": false,
       "aggSchema": [],
       "aggSeriesLimitReached": false,
       "aggType": "",
       "arguments": {},
       "columnCustomDisplayInfos": {},
       "data": [
        [
         "2015-03-22T14:13:34",
         1646641525847,
         "May, 2021",
         "2025-03-18",
         "2025-03-18T17:31:51.622+0000",
         1427033614
        ],
        [
         "2015-03-22T15:03:18",
         1646641557555,
         "Mar, 2021",
         "2025-03-18",
         "2025-03-18T17:31:51.622+0000",
         1427036598
        ],
        [
         "2015-03-22T14:38:39",
         1646641578622,
         "Jan, 2021",
         "2025-03-18",
         "2025-03-18T17:31:51.622+0000",
         1427035119
        ]
       ],
       "datasetInfos": [],
       "dbfsResultPath": null,
       "isJsonSchema": true,
       "metadata": {},
       "overflow": false,
       "plotOptions": {
        "customPlotOptions": {},
        "displayType": "table",
        "pivotAggregation": null,
        "pivotColumns": null,
        "xColumns": null,
        "yColumns": null
       },
       "removedWidgets": [],
       "schema": [
        {
         "metadata": "{}",
         "name": "timestamp",
         "type": "\"string\""
        },
        {
         "metadata": "{}",
         "name": "unix",
         "type": "\"long\""
        },
        {
         "metadata": "{}",
         "name": "Date",
         "type": "\"string\""
        },
        {
         "metadata": "{}",
         "name": "current_date",
         "type": "\"date\""
        },
        {
         "metadata": "{}",
         "name": "current_timestamp",
         "type": "\"timestamp\""
        },
        {
         "metadata": "{}",
         "name": "timestamp_unix",
         "type": "\"long\""
        }
       ],
       "type": "table"
      }
     },
     "output_type": "display_data"
    }
   ],
   "source": [
    "from pyspark.sql.functions import unix_timestamp\n",
    "\n",
    "dataFrame = dataFrame.withColumn(\"timestamp_unix\", unix_timestamp(\"timestamp\", \"yyyy-MM-dd'T'HH:mm:ss\"))\n",
    "\n",
    "display(dataFrame)\n"
   ]
  },
  {
   "cell_type": "markdown",
   "metadata": {
    "application/vnd.databricks.v1+cell": {
     "cellMetadata": {},
     "inputWidgets": {},
     "nuid": "965ee74b-2147-4065-a06b-a832afc3a7d4",
     "showTitle": false,
     "tableResultSettingsMap": {},
     "title": ""
    }
   },
   "source": [
    "2. Zmień format zgodnie z klasą `SimpleDateFormat`**yyyy-MM-dd HH:mm:ss**\n",
    "  * a. Wyświetl schemat i dane żeby sprawdzicz czy wartości się zmieniły"
   ]
  },
  {
   "cell_type": "code",
   "execution_count": 0,
   "metadata": {
    "application/vnd.databricks.v1+cell": {
     "cellMetadata": {
      "byteLimit": 2048000,
      "rowLimit": 10000
     },
     "inputWidgets": {},
     "nuid": "9013e7b3-750a-442e-9ac9-15d86b16e303",
     "showTitle": false,
     "tableResultSettingsMap": {},
     "title": ""
    }
   },
   "outputs": [
    {
     "output_type": "stream",
     "name": "stdout",
     "output_type": "stream",
     "text": [
      "root\n |-- timestamp: string (nullable = true)\n |-- unix: long (nullable = true)\n |-- Date: string (nullable = true)\n |-- current_date: date (nullable = false)\n |-- current_timestamp: timestamp (nullable = false)\n |-- timestamp_unix: long (nullable = true)\n\n"
     ]
    }
   ],
   "source": [
    "\n",
    "zmianaFormatu = dataFrame.withColumn(\"timestamp_unix\", unix_timestamp(\"timestamp\", \"yyyy-MM-dd'T'HH:mm:ss\"))\n",
    "\n",
    "zmianaFormatu.printSchema()"
   ]
  },
  {
   "cell_type": "code",
   "execution_count": 0,
   "metadata": {
    "application/vnd.databricks.v1+cell": {
     "cellMetadata": {
      "byteLimit": 2048000,
      "rowLimit": 10000
     },
     "inputWidgets": {},
     "nuid": "f035d832-20ce-4a42-900a-e4b1a16c225b",
     "showTitle": false,
     "tableResultSettingsMap": {},
     "title": ""
    }
   },
   "outputs": [
    {
     "output_type": "display_data",
     "data": {
      "text/html": [
       "<style scoped>\n",
       "  .table-result-container {\n",
       "    max-height: 300px;\n",
       "    overflow: auto;\n",
       "  }\n",
       "  table, th, td {\n",
       "    border: 1px solid black;\n",
       "    border-collapse: collapse;\n",
       "  }\n",
       "  th, td {\n",
       "    padding: 5px;\n",
       "  }\n",
       "  th {\n",
       "    text-align: left;\n",
       "  }\n",
       "</style><div class='table-result-container'><table class='table-result'><thead style='background-color: white'><tr><th>timestamp</th><th>unix</th><th>Date</th><th>current_date</th><th>current_timestamp</th><th>timestamp_unix</th><th>timestamp_formatted</th></tr></thead><tbody><tr><td>2015-03-22T14:13:34</td><td>1646641525847</td><td>May, 2021</td><td>2025-03-18</td><td>2025-03-18T17:34:14.555+0000</td><td>1427033614</td><td>2015-03-22 14:13:34</td></tr><tr><td>2015-03-22T15:03:18</td><td>1646641557555</td><td>Mar, 2021</td><td>2025-03-18</td><td>2025-03-18T17:34:14.555+0000</td><td>1427036598</td><td>2015-03-22 15:03:18</td></tr><tr><td>2015-03-22T14:38:39</td><td>1646641578622</td><td>Jan, 2021</td><td>2025-03-18</td><td>2025-03-18T17:34:14.555+0000</td><td>1427035119</td><td>2015-03-22 14:38:39</td></tr></tbody></table></div>"
      ]
     },
     "metadata": {
      "application/vnd.databricks.v1+output": {
       "addedWidgets": {},
       "aggData": [],
       "aggError": "",
       "aggOverflow": false,
       "aggSchema": [],
       "aggSeriesLimitReached": false,
       "aggType": "",
       "arguments": {},
       "columnCustomDisplayInfos": {},
       "data": [
        [
         "2015-03-22T14:13:34",
         1646641525847,
         "May, 2021",
         "2025-03-18",
         "2025-03-18T17:34:14.555+0000",
         1427033614,
         "2015-03-22 14:13:34"
        ],
        [
         "2015-03-22T15:03:18",
         1646641557555,
         "Mar, 2021",
         "2025-03-18",
         "2025-03-18T17:34:14.555+0000",
         1427036598,
         "2015-03-22 15:03:18"
        ],
        [
         "2015-03-22T14:38:39",
         1646641578622,
         "Jan, 2021",
         "2025-03-18",
         "2025-03-18T17:34:14.555+0000",
         1427035119,
         "2015-03-22 14:38:39"
        ]
       ],
       "datasetInfos": [],
       "dbfsResultPath": null,
       "isJsonSchema": true,
       "metadata": {},
       "overflow": false,
       "plotOptions": {
        "customPlotOptions": {},
        "displayType": "table",
        "pivotAggregation": null,
        "pivotColumns": null,
        "xColumns": null,
        "yColumns": null
       },
       "removedWidgets": [],
       "schema": [
        {
         "metadata": "{}",
         "name": "timestamp",
         "type": "\"string\""
        },
        {
         "metadata": "{}",
         "name": "unix",
         "type": "\"long\""
        },
        {
         "metadata": "{}",
         "name": "Date",
         "type": "\"string\""
        },
        {
         "metadata": "{}",
         "name": "current_date",
         "type": "\"date\""
        },
        {
         "metadata": "{}",
         "name": "current_timestamp",
         "type": "\"timestamp\""
        },
        {
         "metadata": "{}",
         "name": "timestamp_unix",
         "type": "\"long\""
        },
        {
         "metadata": "{}",
         "name": "timestamp_formatted",
         "type": "\"string\""
        }
       ],
       "type": "table"
      }
     },
     "output_type": "display_data"
    }
   ],
   "source": [
    "#unix_timestamp\n",
    "from pyspark.sql.functions import from_unixtime\n",
    "\n",
    "tempE = zmianaFormatu.withColumn(\"timestamp_formatted\", from_unixtime(\"timestamp_unix\", \"yyyy-MM-dd HH:mm:ss\"))\n",
    "\n",
    "display(tempE)"
   ]
  },
  {
   "cell_type": "markdown",
   "metadata": {
    "application/vnd.databricks.v1+cell": {
     "cellMetadata": {},
     "inputWidgets": {},
     "nuid": "db03d5cd-61eb-4fca-a821-e19a85950b6e",
     "showTitle": false,
     "tableResultSettingsMap": {},
     "title": ""
    }
   },
   "source": [
    "## Stwórz nowe kolumny do DataFrame z wartościami year(..), month(..), dayofyear(..)"
   ]
  },
  {
   "cell_type": "code",
   "execution_count": 0,
   "metadata": {
    "application/vnd.databricks.v1+cell": {
     "cellMetadata": {
      "byteLimit": 2048000,
      "rowLimit": 10000
     },
     "inputWidgets": {},
     "nuid": "e1461557-acfa-490d-80e7-ce453bf7a728",
     "showTitle": false,
     "tableResultSettingsMap": {},
     "title": ""
    }
   },
   "outputs": [
    {
     "output_type": "display_data",
     "data": {
      "text/html": [
       "<style scoped>\n",
       "  .table-result-container {\n",
       "    max-height: 300px;\n",
       "    overflow: auto;\n",
       "  }\n",
       "  table, th, td {\n",
       "    border: 1px solid black;\n",
       "    border-collapse: collapse;\n",
       "  }\n",
       "  th, td {\n",
       "    padding: 5px;\n",
       "  }\n",
       "  th {\n",
       "    text-align: left;\n",
       "  }\n",
       "</style><div class='table-result-container'><table class='table-result'><thead style='background-color: white'><tr><th>timestamp</th><th>unix</th><th>Date</th><th>current_date</th><th>current_timestamp</th><th>timestamp_unix</th><th>timestamp_formatted</th><th>year</th><th>month</th><th>dayofyear</th></tr></thead><tbody><tr><td>2015-03-22T14:13:34</td><td>1646641525847</td><td>May, 2021</td><td>2025-03-18</td><td>2025-03-18T17:34:18.657+0000</td><td>1427033614</td><td>2015-03-22 14:13:34</td><td>2015</td><td>3</td><td>81</td></tr><tr><td>2015-03-22T15:03:18</td><td>1646641557555</td><td>Mar, 2021</td><td>2025-03-18</td><td>2025-03-18T17:34:18.657+0000</td><td>1427036598</td><td>2015-03-22 15:03:18</td><td>2015</td><td>3</td><td>81</td></tr><tr><td>2015-03-22T14:38:39</td><td>1646641578622</td><td>Jan, 2021</td><td>2025-03-18</td><td>2025-03-18T17:34:18.657+0000</td><td>1427035119</td><td>2015-03-22 14:38:39</td><td>2015</td><td>3</td><td>81</td></tr></tbody></table></div>"
      ]
     },
     "metadata": {
      "application/vnd.databricks.v1+output": {
       "addedWidgets": {},
       "aggData": [],
       "aggError": "",
       "aggOverflow": false,
       "aggSchema": [],
       "aggSeriesLimitReached": false,
       "aggType": "",
       "arguments": {},
       "columnCustomDisplayInfos": {},
       "data": [
        [
         "2015-03-22T14:13:34",
         1646641525847,
         "May, 2021",
         "2025-03-18",
         "2025-03-18T17:34:18.657+0000",
         1427033614,
         "2015-03-22 14:13:34",
         2015,
         3,
         81
        ],
        [
         "2015-03-22T15:03:18",
         1646641557555,
         "Mar, 2021",
         "2025-03-18",
         "2025-03-18T17:34:18.657+0000",
         1427036598,
         "2015-03-22 15:03:18",
         2015,
         3,
         81
        ],
        [
         "2015-03-22T14:38:39",
         1646641578622,
         "Jan, 2021",
         "2025-03-18",
         "2025-03-18T17:34:18.657+0000",
         1427035119,
         "2015-03-22 14:38:39",
         2015,
         3,
         81
        ]
       ],
       "datasetInfos": [],
       "dbfsResultPath": null,
       "isJsonSchema": true,
       "metadata": {},
       "overflow": false,
       "plotOptions": {
        "customPlotOptions": {},
        "displayType": "table",
        "pivotAggregation": null,
        "pivotColumns": null,
        "xColumns": null,
        "yColumns": null
       },
       "removedWidgets": [],
       "schema": [
        {
         "metadata": "{}",
         "name": "timestamp",
         "type": "\"string\""
        },
        {
         "metadata": "{}",
         "name": "unix",
         "type": "\"long\""
        },
        {
         "metadata": "{}",
         "name": "Date",
         "type": "\"string\""
        },
        {
         "metadata": "{}",
         "name": "current_date",
         "type": "\"date\""
        },
        {
         "metadata": "{}",
         "name": "current_timestamp",
         "type": "\"timestamp\""
        },
        {
         "metadata": "{}",
         "name": "timestamp_unix",
         "type": "\"long\""
        },
        {
         "metadata": "{}",
         "name": "timestamp_formatted",
         "type": "\"string\""
        },
        {
         "metadata": "{}",
         "name": "year",
         "type": "\"integer\""
        },
        {
         "metadata": "{}",
         "name": "month",
         "type": "\"integer\""
        },
        {
         "metadata": "{}",
         "name": "dayofyear",
         "type": "\"integer\""
        }
       ],
       "type": "table"
      }
     },
     "output_type": "display_data"
    }
   ],
   "source": [
    "#date_format\n",
    "from pyspark.sql.functions import year, month, dayofyear\n",
    "\n",
    "yearDate = tempE.withColumn(\"year\", year(\"timestamp_formatted\")).withColumn(\"month\", month(\"timestamp_formatted\")).withColumn(\"dayofyear\", dayofyear(\"timestamp_formatted\"))\n",
    "\n",
    "display(yearDate)"
   ]
  },
  {
   "cell_type": "code",
   "execution_count": 0,
   "metadata": {
    "application/vnd.databricks.v1+cell": {
     "cellMetadata": {
      "byteLimit": 2048000,
      "rowLimit": 10000
     },
     "inputWidgets": {},
     "nuid": "d2c0abf1-1002-423c-8bd0-5b2519dd1411",
     "showTitle": false,
     "tableResultSettingsMap": {},
     "title": ""
    }
   },
   "outputs": [
    {
     "output_type": "display_data",
     "data": {
      "text/html": [
       "<style scoped>\n",
       "  .table-result-container {\n",
       "    max-height: 300px;\n",
       "    overflow: auto;\n",
       "  }\n",
       "  table, th, td {\n",
       "    border: 1px solid black;\n",
       "    border-collapse: collapse;\n",
       "  }\n",
       "  th, td {\n",
       "    padding: 5px;\n",
       "  }\n",
       "  th {\n",
       "    text-align: left;\n",
       "  }\n",
       "</style><div class='table-result-container'><table class='table-result'><thead style='background-color: white'><tr><th>timestamp</th><th>unix</th><th>Date</th><th>current_date</th><th>current_timestamp</th><th>timestamp_unix</th><th>timestamp_formatted</th><th>to_date</th><th>year</th><th>month</th><th>dayofyear</th></tr></thead><tbody><tr><td>2015-03-22T14:13:34</td><td>1646641525847</td><td>May, 2021</td><td>2025-03-18</td><td>2025-03-18T17:35:27.203+0000</td><td>1427033614</td><td>2015-03-22 14:13:34</td><td>2015-03-22</td><td>2015</td><td>3</td><td>81</td></tr><tr><td>2015-03-22T15:03:18</td><td>1646641557555</td><td>Mar, 2021</td><td>2025-03-18</td><td>2025-03-18T17:35:27.203+0000</td><td>1427036598</td><td>2015-03-22 15:03:18</td><td>2015-03-22</td><td>2015</td><td>3</td><td>81</td></tr><tr><td>2015-03-22T14:38:39</td><td>1646641578622</td><td>Jan, 2021</td><td>2025-03-18</td><td>2025-03-18T17:35:27.203+0000</td><td>1427035119</td><td>2015-03-22 14:38:39</td><td>2015-03-22</td><td>2015</td><td>3</td><td>81</td></tr></tbody></table></div>"
      ]
     },
     "metadata": {
      "application/vnd.databricks.v1+output": {
       "addedWidgets": {},
       "aggData": [],
       "aggError": "",
       "aggOverflow": false,
       "aggSchema": [],
       "aggSeriesLimitReached": false,
       "aggType": "",
       "arguments": {},
       "columnCustomDisplayInfos": {},
       "data": [
        [
         "2015-03-22T14:13:34",
         1646641525847,
         "May, 2021",
         "2025-03-18",
         "2025-03-18T17:35:27.203+0000",
         1427033614,
         "2015-03-22 14:13:34",
         "2015-03-22",
         2015,
         3,
         81
        ],
        [
         "2015-03-22T15:03:18",
         1646641557555,
         "Mar, 2021",
         "2025-03-18",
         "2025-03-18T17:35:27.203+0000",
         1427036598,
         "2015-03-22 15:03:18",
         "2015-03-22",
         2015,
         3,
         81
        ],
        [
         "2015-03-22T14:38:39",
         1646641578622,
         "Jan, 2021",
         "2025-03-18",
         "2025-03-18T17:35:27.203+0000",
         1427035119,
         "2015-03-22 14:38:39",
         "2015-03-22",
         2015,
         3,
         81
        ]
       ],
       "datasetInfos": [],
       "dbfsResultPath": null,
       "isJsonSchema": true,
       "metadata": {},
       "overflow": false,
       "plotOptions": {
        "customPlotOptions": {},
        "displayType": "table",
        "pivotAggregation": null,
        "pivotColumns": null,
        "xColumns": null,
        "yColumns": null
       },
       "removedWidgets": [],
       "schema": [
        {
         "metadata": "{}",
         "name": "timestamp",
         "type": "\"string\""
        },
        {
         "metadata": "{}",
         "name": "unix",
         "type": "\"long\""
        },
        {
         "metadata": "{}",
         "name": "Date",
         "type": "\"string\""
        },
        {
         "metadata": "{}",
         "name": "current_date",
         "type": "\"date\""
        },
        {
         "metadata": "{}",
         "name": "current_timestamp",
         "type": "\"timestamp\""
        },
        {
         "metadata": "{}",
         "name": "timestamp_unix",
         "type": "\"long\""
        },
        {
         "metadata": "{}",
         "name": "timestamp_formatted",
         "type": "\"string\""
        },
        {
         "metadata": "{}",
         "name": "to_date",
         "type": "\"date\""
        },
        {
         "metadata": "{}",
         "name": "year",
         "type": "\"integer\""
        },
        {
         "metadata": "{}",
         "name": "month",
         "type": "\"integer\""
        },
        {
         "metadata": "{}",
         "name": "dayofyear",
         "type": "\"integer\""
        }
       ],
       "type": "table"
      }
     },
     "output_type": "display_data"
    }
   ],
   "source": [
    "#to_date()\n",
    "from pyspark.sql.functions import to_date\n",
    "\n",
    "toDate = tempE.withColumn(\"to_date\", to_date(from_unixtime(\"timestamp_unix\", \"yyyy-MM-dd\"))).withColumn(\"year\", year(\"to_date\")).withColumn(\"month\", month(\"to_date\")).withColumn(\"dayofyear\", dayofyear(\"to_date\"))\n",
    "\n",
    "display(toDate)"
   ]
  },
  {
   "cell_type": "code",
   "execution_count": 0,
   "metadata": {
    "application/vnd.databricks.v1+cell": {
     "cellMetadata": {
      "byteLimit": 2048000,
      "rowLimit": 10000
     },
     "inputWidgets": {},
     "nuid": "867a2aa1-3f1d-41ed-9d75-dbf309fb3dd2",
     "showTitle": false,
     "tableResultSettingsMap": {},
     "title": ""
    }
   },
   "outputs": [
    {
     "output_type": "display_data",
     "data": {
      "text/html": [
       "<style scoped>\n",
       "  .table-result-container {\n",
       "    max-height: 300px;\n",
       "    overflow: auto;\n",
       "  }\n",
       "  table, th, td {\n",
       "    border: 1px solid black;\n",
       "    border-collapse: collapse;\n",
       "  }\n",
       "  th, td {\n",
       "    padding: 5px;\n",
       "  }\n",
       "  th {\n",
       "    text-align: left;\n",
       "  }\n",
       "</style><div class='table-result-container'><table class='table-result'><thead style='background-color: white'><tr><th>timestamp</th><th>unix</th><th>Date</th><th>current_date</th><th>current_timestamp</th><th>timestamp_unix</th><th>timestamp_formatted</th><th>from_unix</th><th>to_date</th><th>year</th><th>month</th><th>dayofyear</th></tr></thead><tbody><tr><td>2015-03-22T14:13:34</td><td>1646641525847</td><td>May, 2021</td><td>2025-03-18</td><td>2025-03-18T17:36:04.088+0000</td><td>1427033614</td><td>2015-03-22 14:13:34</td><td>2015-03-22 14:13:34</td><td>2015-03-22</td><td>2015</td><td>3</td><td>81</td></tr><tr><td>2015-03-22T15:03:18</td><td>1646641557555</td><td>Mar, 2021</td><td>2025-03-18</td><td>2025-03-18T17:36:04.088+0000</td><td>1427036598</td><td>2015-03-22 15:03:18</td><td>2015-03-22 15:03:18</td><td>2015-03-22</td><td>2015</td><td>3</td><td>81</td></tr><tr><td>2015-03-22T14:38:39</td><td>1646641578622</td><td>Jan, 2021</td><td>2025-03-18</td><td>2025-03-18T17:36:04.088+0000</td><td>1427035119</td><td>2015-03-22 14:38:39</td><td>2015-03-22 14:38:39</td><td>2015-03-22</td><td>2015</td><td>3</td><td>81</td></tr></tbody></table></div>"
      ]
     },
     "metadata": {
      "application/vnd.databricks.v1+output": {
       "addedWidgets": {},
       "aggData": [],
       "aggError": "",
       "aggOverflow": false,
       "aggSchema": [],
       "aggSeriesLimitReached": false,
       "aggType": "",
       "arguments": {},
       "columnCustomDisplayInfos": {},
       "data": [
        [
         "2015-03-22T14:13:34",
         1646641525847,
         "May, 2021",
         "2025-03-18",
         "2025-03-18T17:36:04.088+0000",
         1427033614,
         "2015-03-22 14:13:34",
         "2015-03-22 14:13:34",
         "2015-03-22",
         2015,
         3,
         81
        ],
        [
         "2015-03-22T15:03:18",
         1646641557555,
         "Mar, 2021",
         "2025-03-18",
         "2025-03-18T17:36:04.088+0000",
         1427036598,
         "2015-03-22 15:03:18",
         "2015-03-22 15:03:18",
         "2015-03-22",
         2015,
         3,
         81
        ],
        [
         "2015-03-22T14:38:39",
         1646641578622,
         "Jan, 2021",
         "2025-03-18",
         "2025-03-18T17:36:04.088+0000",
         1427035119,
         "2015-03-22 14:38:39",
         "2015-03-22 14:38:39",
         "2015-03-22",
         2015,
         3,
         81
        ]
       ],
       "datasetInfos": [],
       "dbfsResultPath": null,
       "isJsonSchema": true,
       "metadata": {},
       "overflow": false,
       "plotOptions": {
        "customPlotOptions": {},
        "displayType": "table",
        "pivotAggregation": null,
        "pivotColumns": null,
        "xColumns": null,
        "yColumns": null
       },
       "removedWidgets": [],
       "schema": [
        {
         "metadata": "{}",
         "name": "timestamp",
         "type": "\"string\""
        },
        {
         "metadata": "{}",
         "name": "unix",
         "type": "\"long\""
        },
        {
         "metadata": "{}",
         "name": "Date",
         "type": "\"string\""
        },
        {
         "metadata": "{}",
         "name": "current_date",
         "type": "\"date\""
        },
        {
         "metadata": "{}",
         "name": "current_timestamp",
         "type": "\"timestamp\""
        },
        {
         "metadata": "{}",
         "name": "timestamp_unix",
         "type": "\"long\""
        },
        {
         "metadata": "{}",
         "name": "timestamp_formatted",
         "type": "\"string\""
        },
        {
         "metadata": "{}",
         "name": "from_unix",
         "type": "\"string\""
        },
        {
         "metadata": "{}",
         "name": "to_date",
         "type": "\"date\""
        },
        {
         "metadata": "{}",
         "name": "year",
         "type": "\"integer\""
        },
        {
         "metadata": "{}",
         "name": "month",
         "type": "\"integer\""
        },
        {
         "metadata": "{}",
         "name": "dayofyear",
         "type": "\"integer\""
        }
       ],
       "type": "table"
      }
     },
     "output_type": "display_data"
    }
   ],
   "source": [
    "#from_unixtime()\n",
    "from pyspark.sql.functions import from_unixtime\n",
    "\n",
    "fromUnix = tempE.withColumn(\"from_unix\", from_unixtime(\"timestamp_unix\", \"yyyy-MM-dd HH:mm:ss\")).withColumn(\"to_date\", to_date(\"from_unix\")).withColumn(\"year\", year(\"to_date\")).withColumn(\"month\", month(\"to_date\")).withColumn(\"dayofyear\", dayofyear(\"to_date\"))\n",
    "\n",
    "display(fromUnix)"
   ]
  },
  {
   "cell_type": "code",
   "execution_count": 0,
   "metadata": {
    "application/vnd.databricks.v1+cell": {
     "cellMetadata": {
      "byteLimit": 2048000,
      "rowLimit": 10000
     },
     "inputWidgets": {},
     "nuid": "ebba34dc-f8ad-4c31-9de1-59bf7e86e749",
     "showTitle": false,
     "tableResultSettingsMap": {},
     "title": ""
    }
   },
   "outputs": [
    {
     "output_type": "display_data",
     "data": {
      "text/html": [
       "<style scoped>\n",
       "  .table-result-container {\n",
       "    max-height: 300px;\n",
       "    overflow: auto;\n",
       "  }\n",
       "  table, th, td {\n",
       "    border: 1px solid black;\n",
       "    border-collapse: collapse;\n",
       "  }\n",
       "  th, td {\n",
       "    padding: 5px;\n",
       "  }\n",
       "  th {\n",
       "    text-align: left;\n",
       "  }\n",
       "</style><div class='table-result-container'><table class='table-result'><thead style='background-color: white'><tr><th>timestamp</th><th>unix</th><th>Date</th><th>current_date</th><th>current_timestamp</th><th>timestamp_unix</th><th>timestamp_formatted</th><th>to_timestamp</th><th>year</th><th>month</th><th>dayofyear</th></tr></thead><tbody><tr><td>2015-03-22T14:13:34</td><td>1646641525847</td><td>May, 2021</td><td>2025-03-18</td><td>2025-03-18T17:36:31.388+0000</td><td>1427033614</td><td>2015-03-22 14:13:34</td><td>2015-03-22T14:13:34.000+0000</td><td>2015</td><td>3</td><td>81</td></tr><tr><td>2015-03-22T15:03:18</td><td>1646641557555</td><td>Mar, 2021</td><td>2025-03-18</td><td>2025-03-18T17:36:31.388+0000</td><td>1427036598</td><td>2015-03-22 15:03:18</td><td>2015-03-22T15:03:18.000+0000</td><td>2015</td><td>3</td><td>81</td></tr><tr><td>2015-03-22T14:38:39</td><td>1646641578622</td><td>Jan, 2021</td><td>2025-03-18</td><td>2025-03-18T17:36:31.388+0000</td><td>1427035119</td><td>2015-03-22 14:38:39</td><td>2015-03-22T14:38:39.000+0000</td><td>2015</td><td>3</td><td>81</td></tr></tbody></table></div>"
      ]
     },
     "metadata": {
      "application/vnd.databricks.v1+output": {
       "addedWidgets": {},
       "aggData": [],
       "aggError": "",
       "aggOverflow": false,
       "aggSchema": [],
       "aggSeriesLimitReached": false,
       "aggType": "",
       "arguments": {},
       "columnCustomDisplayInfos": {},
       "data": [
        [
         "2015-03-22T14:13:34",
         1646641525847,
         "May, 2021",
         "2025-03-18",
         "2025-03-18T17:36:31.388+0000",
         1427033614,
         "2015-03-22 14:13:34",
         "2015-03-22T14:13:34.000+0000",
         2015,
         3,
         81
        ],
        [
         "2015-03-22T15:03:18",
         1646641557555,
         "Mar, 2021",
         "2025-03-18",
         "2025-03-18T17:36:31.388+0000",
         1427036598,
         "2015-03-22 15:03:18",
         "2015-03-22T15:03:18.000+0000",
         2015,
         3,
         81
        ],
        [
         "2015-03-22T14:38:39",
         1646641578622,
         "Jan, 2021",
         "2025-03-18",
         "2025-03-18T17:36:31.388+0000",
         1427035119,
         "2015-03-22 14:38:39",
         "2015-03-22T14:38:39.000+0000",
         2015,
         3,
         81
        ]
       ],
       "datasetInfos": [],
       "dbfsResultPath": null,
       "isJsonSchema": true,
       "metadata": {},
       "overflow": false,
       "plotOptions": {
        "customPlotOptions": {},
        "displayType": "table",
        "pivotAggregation": null,
        "pivotColumns": null,
        "xColumns": null,
        "yColumns": null
       },
       "removedWidgets": [],
       "schema": [
        {
         "metadata": "{}",
         "name": "timestamp",
         "type": "\"string\""
        },
        {
         "metadata": "{}",
         "name": "unix",
         "type": "\"long\""
        },
        {
         "metadata": "{}",
         "name": "Date",
         "type": "\"string\""
        },
        {
         "metadata": "{}",
         "name": "current_date",
         "type": "\"date\""
        },
        {
         "metadata": "{}",
         "name": "current_timestamp",
         "type": "\"timestamp\""
        },
        {
         "metadata": "{}",
         "name": "timestamp_unix",
         "type": "\"long\""
        },
        {
         "metadata": "{}",
         "name": "timestamp_formatted",
         "type": "\"string\""
        },
        {
         "metadata": "{}",
         "name": "to_timestamp",
         "type": "\"timestamp\""
        },
        {
         "metadata": "{}",
         "name": "year",
         "type": "\"integer\""
        },
        {
         "metadata": "{}",
         "name": "month",
         "type": "\"integer\""
        },
        {
         "metadata": "{}",
         "name": "dayofyear",
         "type": "\"integer\""
        }
       ],
       "type": "table"
      }
     },
     "output_type": "display_data"
    }
   ],
   "source": [
    "#to_timestamp()\n",
    "from pyspark.sql.functions import to_timestamp\n",
    "\n",
    "toTimestamp = tempE.withColumn(\"to_timestamp\", to_timestamp(\"timestamp_formatted\", \"yyyy-MM-dd HH:mm:ss\")).withColumn(\"year\", year(\"to_timestamp\")).withColumn(\"month\", month(\"to_timestamp\")).withColumn(\"dayofyear\", dayofyear(\"to_timestamp\"))\n",
    "\n",
    "display(toTimestamp)\n"
   ]
  },
  {
   "cell_type": "code",
   "execution_count": 0,
   "metadata": {
    "application/vnd.databricks.v1+cell": {
     "cellMetadata": {
      "byteLimit": 2048000,
      "rowLimit": 10000
     },
     "inputWidgets": {},
     "nuid": "8ea929b6-c0cb-49a1-9db7-f9b057fb4de9",
     "showTitle": false,
     "tableResultSettingsMap": {},
     "title": ""
    }
   },
   "outputs": [
    {
     "output_type": "display_data",
     "data": {
      "text/html": [
       "<style scoped>\n",
       "  .table-result-container {\n",
       "    max-height: 300px;\n",
       "    overflow: auto;\n",
       "  }\n",
       "  table, th, td {\n",
       "    border: 1px solid black;\n",
       "    border-collapse: collapse;\n",
       "  }\n",
       "  th, td {\n",
       "    padding: 5px;\n",
       "  }\n",
       "  th {\n",
       "    text-align: left;\n",
       "  }\n",
       "</style><div class='table-result-container'><table class='table-result'><thead style='background-color: white'><tr><th>timestamp</th><th>unix</th><th>Date</th><th>current_date</th><th>current_timestamp</th><th>timestamp_unix</th><th>timestamp_formatted</th><th>to_utc_timestamp</th><th>year</th><th>month</th><th>dayofyear</th></tr></thead><tbody><tr><td>2015-03-22T14:13:34</td><td>1646641525847</td><td>May, 2021</td><td>2025-03-18</td><td>2025-03-18T17:36:56.887+0000</td><td>1427033614</td><td>2015-03-22 14:13:34</td><td>2015-03-22T14:13:34.000+0000</td><td>2015</td><td>3</td><td>81</td></tr><tr><td>2015-03-22T15:03:18</td><td>1646641557555</td><td>Mar, 2021</td><td>2025-03-18</td><td>2025-03-18T17:36:56.887+0000</td><td>1427036598</td><td>2015-03-22 15:03:18</td><td>2015-03-22T15:03:18.000+0000</td><td>2015</td><td>3</td><td>81</td></tr><tr><td>2015-03-22T14:38:39</td><td>1646641578622</td><td>Jan, 2021</td><td>2025-03-18</td><td>2025-03-18T17:36:56.887+0000</td><td>1427035119</td><td>2015-03-22 14:38:39</td><td>2015-03-22T14:38:39.000+0000</td><td>2015</td><td>3</td><td>81</td></tr></tbody></table></div>"
      ]
     },
     "metadata": {
      "application/vnd.databricks.v1+output": {
       "addedWidgets": {},
       "aggData": [],
       "aggError": "",
       "aggOverflow": false,
       "aggSchema": [],
       "aggSeriesLimitReached": false,
       "aggType": "",
       "arguments": {},
       "columnCustomDisplayInfos": {},
       "data": [
        [
         "2015-03-22T14:13:34",
         1646641525847,
         "May, 2021",
         "2025-03-18",
         "2025-03-18T17:36:56.887+0000",
         1427033614,
         "2015-03-22 14:13:34",
         "2015-03-22T14:13:34.000+0000",
         2015,
         3,
         81
        ],
        [
         "2015-03-22T15:03:18",
         1646641557555,
         "Mar, 2021",
         "2025-03-18",
         "2025-03-18T17:36:56.887+0000",
         1427036598,
         "2015-03-22 15:03:18",
         "2015-03-22T15:03:18.000+0000",
         2015,
         3,
         81
        ],
        [
         "2015-03-22T14:38:39",
         1646641578622,
         "Jan, 2021",
         "2025-03-18",
         "2025-03-18T17:36:56.887+0000",
         1427035119,
         "2015-03-22 14:38:39",
         "2015-03-22T14:38:39.000+0000",
         2015,
         3,
         81
        ]
       ],
       "datasetInfos": [],
       "dbfsResultPath": null,
       "isJsonSchema": true,
       "metadata": {},
       "overflow": false,
       "plotOptions": {
        "customPlotOptions": {},
        "displayType": "table",
        "pivotAggregation": null,
        "pivotColumns": null,
        "xColumns": null,
        "yColumns": null
       },
       "removedWidgets": [],
       "schema": [
        {
         "metadata": "{}",
         "name": "timestamp",
         "type": "\"string\""
        },
        {
         "metadata": "{}",
         "name": "unix",
         "type": "\"long\""
        },
        {
         "metadata": "{}",
         "name": "Date",
         "type": "\"string\""
        },
        {
         "metadata": "{}",
         "name": "current_date",
         "type": "\"date\""
        },
        {
         "metadata": "{}",
         "name": "current_timestamp",
         "type": "\"timestamp\""
        },
        {
         "metadata": "{}",
         "name": "timestamp_unix",
         "type": "\"long\""
        },
        {
         "metadata": "{}",
         "name": "timestamp_formatted",
         "type": "\"string\""
        },
        {
         "metadata": "{}",
         "name": "to_utc_timestamp",
         "type": "\"timestamp\""
        },
        {
         "metadata": "{}",
         "name": "year",
         "type": "\"integer\""
        },
        {
         "metadata": "{}",
         "name": "month",
         "type": "\"integer\""
        },
        {
         "metadata": "{}",
         "name": "dayofyear",
         "type": "\"integer\""
        }
       ],
       "type": "table"
      }
     },
     "output_type": "display_data"
    }
   ],
   "source": [
    "#to_utc_timestamp()\n",
    "from pyspark.sql.functions import to_utc_timestamp\n",
    "\n",
    "toUtcTimestamp = tempE.withColumn(\"to_utc_timestamp\", to_utc_timestamp(\"timestamp_formatted\", \"UTC\")).withColumn(\"year\", year(\"to_utc_timestamp\")).withColumn(\"month\", month(\"to_utc_timestamp\")).withColumn(\"dayofyear\", dayofyear(\"to_utc_timestamp\"))\n",
    "\n",
    "display(toUtcTimestamp)\n",
    "\n"
   ]
  },
  {
   "cell_type": "code",
   "execution_count": 0,
   "metadata": {
    "application/vnd.databricks.v1+cell": {
     "cellMetadata": {
      "byteLimit": 2048000,
      "rowLimit": 10000
     },
     "inputWidgets": {},
     "nuid": "d9d24a58-521a-4bb2-b03a-a1fac517faed",
     "showTitle": false,
     "tableResultSettingsMap": {},
     "title": ""
    }
   },
   "outputs": [
    {
     "output_type": "display_data",
     "data": {
      "text/html": [
       "<style scoped>\n",
       "  .table-result-container {\n",
       "    max-height: 300px;\n",
       "    overflow: auto;\n",
       "  }\n",
       "  table, th, td {\n",
       "    border: 1px solid black;\n",
       "    border-collapse: collapse;\n",
       "  }\n",
       "  th, td {\n",
       "    padding: 5px;\n",
       "  }\n",
       "  th {\n",
       "    text-align: left;\n",
       "  }\n",
       "</style><div class='table-result-container'><table class='table-result'><thead style='background-color: white'><tr><th>timestamp</th><th>unix</th><th>Date</th><th>current_date</th><th>current_timestamp</th><th>timestamp_unix</th><th>timestamp_formatted</th><th>to_utc_timestamp</th><th>year</th><th>month</th><th>dayofyear</th><th>from_utc_timestamp</th></tr></thead><tbody><tr><td>2015-03-22T14:13:34</td><td>1646641525847</td><td>May, 2021</td><td>2025-03-18</td><td>2025-03-18T17:37:37.142+0000</td><td>1427033614</td><td>2015-03-22 14:13:34</td><td>2015-03-22T14:13:34.000+0000</td><td>2015</td><td>3</td><td>81</td><td>2015-03-22T14:13:34.000+0000</td></tr><tr><td>2015-03-22T15:03:18</td><td>1646641557555</td><td>Mar, 2021</td><td>2025-03-18</td><td>2025-03-18T17:37:37.142+0000</td><td>1427036598</td><td>2015-03-22 15:03:18</td><td>2015-03-22T15:03:18.000+0000</td><td>2015</td><td>3</td><td>81</td><td>2015-03-22T15:03:18.000+0000</td></tr><tr><td>2015-03-22T14:38:39</td><td>1646641578622</td><td>Jan, 2021</td><td>2025-03-18</td><td>2025-03-18T17:37:37.142+0000</td><td>1427035119</td><td>2015-03-22 14:38:39</td><td>2015-03-22T14:38:39.000+0000</td><td>2015</td><td>3</td><td>81</td><td>2015-03-22T14:38:39.000+0000</td></tr></tbody></table></div>"
      ]
     },
     "metadata": {
      "application/vnd.databricks.v1+output": {
       "addedWidgets": {},
       "aggData": [],
       "aggError": "",
       "aggOverflow": false,
       "aggSchema": [],
       "aggSeriesLimitReached": false,
       "aggType": "",
       "arguments": {},
       "columnCustomDisplayInfos": {},
       "data": [
        [
         "2015-03-22T14:13:34",
         1646641525847,
         "May, 2021",
         "2025-03-18",
         "2025-03-18T17:37:37.142+0000",
         1427033614,
         "2015-03-22 14:13:34",
         "2015-03-22T14:13:34.000+0000",
         2015,
         3,
         81,
         "2015-03-22T14:13:34.000+0000"
        ],
        [
         "2015-03-22T15:03:18",
         1646641557555,
         "Mar, 2021",
         "2025-03-18",
         "2025-03-18T17:37:37.142+0000",
         1427036598,
         "2015-03-22 15:03:18",
         "2015-03-22T15:03:18.000+0000",
         2015,
         3,
         81,
         "2015-03-22T15:03:18.000+0000"
        ],
        [
         "2015-03-22T14:38:39",
         1646641578622,
         "Jan, 2021",
         "2025-03-18",
         "2025-03-18T17:37:37.142+0000",
         1427035119,
         "2015-03-22 14:38:39",
         "2015-03-22T14:38:39.000+0000",
         2015,
         3,
         81,
         "2015-03-22T14:38:39.000+0000"
        ]
       ],
       "datasetInfos": [],
       "dbfsResultPath": null,
       "isJsonSchema": true,
       "metadata": {},
       "overflow": false,
       "plotOptions": {
        "customPlotOptions": {},
        "displayType": "table",
        "pivotAggregation": null,
        "pivotColumns": null,
        "xColumns": null,
        "yColumns": null
       },
       "removedWidgets": [],
       "schema": [
        {
         "metadata": "{}",
         "name": "timestamp",
         "type": "\"string\""
        },
        {
         "metadata": "{}",
         "name": "unix",
         "type": "\"long\""
        },
        {
         "metadata": "{}",
         "name": "Date",
         "type": "\"string\""
        },
        {
         "metadata": "{}",
         "name": "current_date",
         "type": "\"date\""
        },
        {
         "metadata": "{}",
         "name": "current_timestamp",
         "type": "\"timestamp\""
        },
        {
         "metadata": "{}",
         "name": "timestamp_unix",
         "type": "\"long\""
        },
        {
         "metadata": "{}",
         "name": "timestamp_formatted",
         "type": "\"string\""
        },
        {
         "metadata": "{}",
         "name": "to_utc_timestamp",
         "type": "\"timestamp\""
        },
        {
         "metadata": "{}",
         "name": "year",
         "type": "\"integer\""
        },
        {
         "metadata": "{}",
         "name": "month",
         "type": "\"integer\""
        },
        {
         "metadata": "{}",
         "name": "dayofyear",
         "type": "\"integer\""
        },
        {
         "metadata": "{}",
         "name": "from_utc_timestamp",
         "type": "\"timestamp\""
        }
       ],
       "type": "table"
      }
     },
     "output_type": "display_data"
    }
   ],
   "source": [
    "#from_utc_timestamp()\n",
    "from pyspark.sql.functions import from_utc_timestamp\n",
    "\n",
    "fromUtcTimestamp = toUtcTimestamp.withColumn(\"from_utc_timestamp\", from_utc_timestamp(\"to_utc_timestamp\", \"UTC\")).withColumn(\"year\", year(\"from_utc_timestamp\")).withColumn(\"month\", month(\"from_utc_timestamp\")).withColumn(\"dayofyear\", dayofyear(\"from_utc_timestamp\"))\n",
    "\n",
    "display(fromUtcTimestamp)"
   ]
  },
  {
   "cell_type": "code",
   "execution_count": 0,
   "metadata": {
    "application/vnd.databricks.v1+cell": {
     "cellMetadata": {
      "byteLimit": 2048000,
      "rowLimit": 10000
     },
     "inputWidgets": {},
     "nuid": "8f1f5379-c42b-4971-afd7-9de10a45ab96",
     "showTitle": false,
     "tableResultSettingsMap": {},
     "title": ""
    }
   },
   "outputs": [],
   "source": [
    "#%fs ls dbfs:/databricks-datasets/\n"
   ]
  }
 ],
 "metadata": {
  "application/vnd.databricks.v1+notebook": {
   "computePreferences": null,
   "dashboards": [],
   "environmentMetadata": null,
   "language": "python",
   "notebookMetadata": {
    "mostRecentlyExecutedCommandWithImplicitDF": {
     "commandId": -1,
     "dataframes": [
      "_sqldf"
     ]
    },
    "pythonIndentUnit": 4
   },
   "notebookName": "Daty2",
   "widgets": {}
  },
  "language_info": {
   "name": "python"
  }
 },
 "nbformat": 4,
 "nbformat_minor": 0
}
