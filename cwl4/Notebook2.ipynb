{
 "cells": [
  {
   "cell_type": "markdown",
   "metadata": {
    "application/vnd.databricks.v1+cell": {
     "cellMetadata": {},
     "inputWidgets": {},
     "nuid": "730b4f42-bfaa-4c7d-989b-6b9394598f86",
     "showTitle": false,
     "tableResultSettingsMap": {},
     "title": ""
    }
   },
   "source": [
    "Wykorzystaj przykłady z notatnika w SQL Windowed Aggregate Functions (cmd 11) i przepisz funkcje używając Spark API. \n"
   ]
  },
  {
   "cell_type": "code",
   "execution_count": 0,
   "metadata": {
    "application/vnd.databricks.v1+cell": {
     "cellMetadata": {
      "byteLimit": 2048000,
      "rowLimit": 10000
     },
     "inputWidgets": {},
     "nuid": "bed95be7-2f68-4ee1-a47d-cff7c13fd388",
     "showTitle": false,
     "tableResultSettingsMap": {},
     "title": ""
    }
   },
   "outputs": [],
   "source": [
    "from pyspark.sql.functions import *"
   ]
  },
  {
   "cell_type": "code",
   "execution_count": 0,
   "metadata": {
    "application/vnd.databricks.v1+cell": {
     "cellMetadata": {
      "byteLimit": 2048000,
      "rowLimit": 10000
     },
     "inputWidgets": {},
     "nuid": "604a8d14-b5a2-4a77-87ba-1aa3b9e124b8",
     "showTitle": false,
     "tableResultSettingsMap": {},
     "title": ""
    }
   },
   "outputs": [],
   "source": [
    "df1 = spark.createDataFrame([\n",
    "( 1, '2011-01-01', 500),\n",
    "( 1, '2011-01-15', 50),\n",
    "( 1, '2011-01-22', 250),\n",
    "( 1, '2011-01-24', 75),\n",
    "( 1, '2011-01-26', 125),\n",
    "( 1, '2011-01-28', 175),\n",
    "( 2, '2011-01-01', 500),\n",
    "( 2, '2011-01-15', 50),\n",
    "( 2, '2011-01-22', 25),\n",
    "( 2, '2011-01-23', 125),\n",
    "( 2, '2011-01-26', 200),\n",
    "( 2, '2011-01-29', 250),\n",
    "( 3, '2011-01-01', 500),\n",
    "( 3, '2011-01-15', 50 ),\n",
    "( 3, '2011-01-22', 5000),\n",
    "( 3, '2011-01-25', 550),\n",
    "( 3, '2011-01-27', 95 ),\n",
    "( 3, '2011-01-30', 2500)], [\"AccountId\", \"TranDate\", \"TranAmt\"])\n",
    "\n",
    "df2 = spark.createDataFrame([\n",
    "(1,'George', 800),\n",
    "(2,'Sam', 950),\n",
    "(3,'Diane', 1100),\n",
    "(4,'Nicholas', 1250),\n",
    "(5,'Samuel', 1250),\n",
    "(6,'Patricia', 1300),\n",
    "(7,'Brian', 1500),\n",
    "(8,'Thomas', 1600),\n",
    "(9,'Fran', 2450),\n",
    "(10,'Debbie', 2850),\n",
    "(11,'Mark', 2975),\n",
    "(12,'James', 3000),\n",
    "(13,'Cynthia', 3000),\n",
    "(14,'Christopher', 5000)], [\"RowID\", \"FName\", \"Salary\"])\n",
    "     "
   ]
  },
  {
   "cell_type": "code",
   "execution_count": 0,
   "metadata": {
    "application/vnd.databricks.v1+cell": {
     "cellMetadata": {
      "byteLimit": 2048000,
      "rowLimit": 10000
     },
     "inputWidgets": {},
     "nuid": "955b8b42-3b8e-4daf-8c18-39d6aa503af5",
     "showTitle": false,
     "tableResultSettingsMap": {},
     "title": ""
    }
   },
   "outputs": [
    {
     "output_type": "display_data",
     "data": {
      "text/html": [
       "<style scoped>\n",
       "  .table-result-container {\n",
       "    max-height: 300px;\n",
       "    overflow: auto;\n",
       "  }\n",
       "  table, th, td {\n",
       "    border: 1px solid black;\n",
       "    border-collapse: collapse;\n",
       "  }\n",
       "  th, td {\n",
       "    padding: 5px;\n",
       "  }\n",
       "  th {\n",
       "    text-align: left;\n",
       "  }\n",
       "</style><div class='table-result-container'><table class='table-result'><thead style='background-color: white'><tr><th>AccountId</th><th>TranDate</th><th>TranAmt</th><th>RunTotalAmt</th></tr></thead><tbody><tr><td>1</td><td>2011-01-01</td><td>500</td><td>500</td></tr><tr><td>1</td><td>2011-01-15</td><td>50</td><td>550</td></tr><tr><td>1</td><td>2011-01-22</td><td>250</td><td>800</td></tr><tr><td>1</td><td>2011-01-24</td><td>75</td><td>875</td></tr><tr><td>1</td><td>2011-01-26</td><td>125</td><td>1000</td></tr><tr><td>1</td><td>2011-01-28</td><td>175</td><td>1175</td></tr><tr><td>2</td><td>2011-01-01</td><td>500</td><td>500</td></tr><tr><td>2</td><td>2011-01-15</td><td>50</td><td>550</td></tr><tr><td>2</td><td>2011-01-22</td><td>25</td><td>575</td></tr><tr><td>2</td><td>2011-01-23</td><td>125</td><td>700</td></tr><tr><td>2</td><td>2011-01-26</td><td>200</td><td>900</td></tr><tr><td>2</td><td>2011-01-29</td><td>250</td><td>1150</td></tr><tr><td>3</td><td>2011-01-01</td><td>500</td><td>500</td></tr><tr><td>3</td><td>2011-01-15</td><td>50</td><td>550</td></tr><tr><td>3</td><td>2011-01-22</td><td>5000</td><td>5550</td></tr><tr><td>3</td><td>2011-01-25</td><td>550</td><td>6100</td></tr><tr><td>3</td><td>2011-01-27</td><td>95</td><td>6195</td></tr><tr><td>3</td><td>2011-01-30</td><td>2500</td><td>8695</td></tr></tbody></table></div>"
      ]
     },
     "metadata": {
      "application/vnd.databricks.v1+output": {
       "addedWidgets": {},
       "aggData": [],
       "aggError": "",
       "aggOverflow": false,
       "aggSchema": [],
       "aggSeriesLimitReached": false,
       "aggType": "",
       "arguments": {},
       "columnCustomDisplayInfos": {},
       "data": [
        [
         1,
         "2011-01-01",
         500,
         500
        ],
        [
         1,
         "2011-01-15",
         50,
         550
        ],
        [
         1,
         "2011-01-22",
         250,
         800
        ],
        [
         1,
         "2011-01-24",
         75,
         875
        ],
        [
         1,
         "2011-01-26",
         125,
         1000
        ],
        [
         1,
         "2011-01-28",
         175,
         1175
        ],
        [
         2,
         "2011-01-01",
         500,
         500
        ],
        [
         2,
         "2011-01-15",
         50,
         550
        ],
        [
         2,
         "2011-01-22",
         25,
         575
        ],
        [
         2,
         "2011-01-23",
         125,
         700
        ],
        [
         2,
         "2011-01-26",
         200,
         900
        ],
        [
         2,
         "2011-01-29",
         250,
         1150
        ],
        [
         3,
         "2011-01-01",
         500,
         500
        ],
        [
         3,
         "2011-01-15",
         50,
         550
        ],
        [
         3,
         "2011-01-22",
         5000,
         5550
        ],
        [
         3,
         "2011-01-25",
         550,
         6100
        ],
        [
         3,
         "2011-01-27",
         95,
         6195
        ],
        [
         3,
         "2011-01-30",
         2500,
         8695
        ]
       ],
       "datasetInfos": [],
       "dbfsResultPath": null,
       "isJsonSchema": true,
       "metadata": {},
       "overflow": false,
       "plotOptions": {
        "customPlotOptions": {},
        "displayType": "table",
        "pivotAggregation": null,
        "pivotColumns": null,
        "xColumns": null,
        "yColumns": null
       },
       "removedWidgets": [],
       "schema": [
        {
         "metadata": "{}",
         "name": "AccountId",
         "type": "\"long\""
        },
        {
         "metadata": "{}",
         "name": "TranDate",
         "type": "\"string\""
        },
        {
         "metadata": "{}",
         "name": "TranAmt",
         "type": "\"long\""
        },
        {
         "metadata": "{}",
         "name": "RunTotalAmt",
         "type": "\"long\""
        }
       ],
       "type": "table"
      }
     },
     "output_type": "display_data"
    }
   ],
   "source": [
    "from pyspark.sql.window import Window\n",
    "\n",
    "window_spec = Window.partitionBy(\"AccountId\").orderBy(\"TranDate\")\n",
    "\n",
    "df1_with_total = df1.withColumn(\"RunTotalAmt\", sum(\"TranAmt\").over(window_spec))\n",
    "\n",
    "display(df1_with_total)"
   ]
  },
  {
   "cell_type": "code",
   "execution_count": 0,
   "metadata": {
    "application/vnd.databricks.v1+cell": {
     "cellMetadata": {
      "byteLimit": 2048000,
      "rowLimit": 10000
     },
     "inputWidgets": {},
     "nuid": "e7985144-7be0-4cfd-80cf-40036c05ef4e",
     "showTitle": false,
     "tableResultSettingsMap": {},
     "title": ""
    }
   },
   "outputs": [
    {
     "output_type": "display_data",
     "data": {
      "text/html": [
       "<style scoped>\n",
       "  .table-result-container {\n",
       "    max-height: 300px;\n",
       "    overflow: auto;\n",
       "  }\n",
       "  table, th, td {\n",
       "    border: 1px solid black;\n",
       "    border-collapse: collapse;\n",
       "  }\n",
       "  th, td {\n",
       "    padding: 5px;\n",
       "  }\n",
       "  th {\n",
       "    text-align: left;\n",
       "  }\n",
       "</style><div class='table-result-container'><table class='table-result'><thead style='background-color: white'><tr><th>AccountId</th><th>TranDate</th><th>TranAmt</th><th>RunAvg</th><th>RunTranQty</th><th>RunSmallAmt</th><th>RunLargeAmt</th><th>RunTotalAmt</th></tr></thead><tbody><tr><td>1</td><td>2011-01-01</td><td>500</td><td>500.0</td><td>1</td><td>500</td><td>500</td><td>500</td></tr><tr><td>1</td><td>2011-01-15</td><td>50</td><td>275.0</td><td>2</td><td>50</td><td>500</td><td>550</td></tr><tr><td>1</td><td>2011-01-22</td><td>250</td><td>266.6666666666667</td><td>3</td><td>50</td><td>500</td><td>800</td></tr><tr><td>1</td><td>2011-01-24</td><td>75</td><td>218.75</td><td>4</td><td>50</td><td>500</td><td>875</td></tr><tr><td>1</td><td>2011-01-26</td><td>125</td><td>200.0</td><td>5</td><td>50</td><td>500</td><td>1000</td></tr><tr><td>1</td><td>2011-01-28</td><td>175</td><td>195.83333333333334</td><td>6</td><td>50</td><td>500</td><td>1175</td></tr><tr><td>2</td><td>2011-01-01</td><td>500</td><td>500.0</td><td>1</td><td>500</td><td>500</td><td>500</td></tr><tr><td>2</td><td>2011-01-15</td><td>50</td><td>275.0</td><td>2</td><td>50</td><td>500</td><td>550</td></tr><tr><td>2</td><td>2011-01-22</td><td>25</td><td>191.66666666666666</td><td>3</td><td>25</td><td>500</td><td>575</td></tr><tr><td>2</td><td>2011-01-23</td><td>125</td><td>175.0</td><td>4</td><td>25</td><td>500</td><td>700</td></tr><tr><td>2</td><td>2011-01-26</td><td>200</td><td>180.0</td><td>5</td><td>25</td><td>500</td><td>900</td></tr><tr><td>2</td><td>2011-01-29</td><td>250</td><td>191.66666666666666</td><td>6</td><td>25</td><td>500</td><td>1150</td></tr><tr><td>3</td><td>2011-01-01</td><td>500</td><td>500.0</td><td>1</td><td>500</td><td>500</td><td>500</td></tr><tr><td>3</td><td>2011-01-15</td><td>50</td><td>275.0</td><td>2</td><td>50</td><td>500</td><td>550</td></tr><tr><td>3</td><td>2011-01-22</td><td>5000</td><td>1850.0</td><td>3</td><td>50</td><td>5000</td><td>5550</td></tr><tr><td>3</td><td>2011-01-25</td><td>550</td><td>1525.0</td><td>4</td><td>50</td><td>5000</td><td>6100</td></tr><tr><td>3</td><td>2011-01-27</td><td>95</td><td>1239.0</td><td>5</td><td>50</td><td>5000</td><td>6195</td></tr><tr><td>3</td><td>2011-01-30</td><td>2500</td><td>1449.1666666666667</td><td>6</td><td>50</td><td>5000</td><td>8695</td></tr></tbody></table></div>"
      ]
     },
     "metadata": {
      "application/vnd.databricks.v1+output": {
       "addedWidgets": {},
       "aggData": [],
       "aggError": "",
       "aggOverflow": false,
       "aggSchema": [],
       "aggSeriesLimitReached": false,
       "aggType": "",
       "arguments": {},
       "columnCustomDisplayInfos": {},
       "data": [
        [
         1,
         "2011-01-01",
         500,
         500.0,
         1,
         500,
         500,
         500
        ],
        [
         1,
         "2011-01-15",
         50,
         275.0,
         2,
         50,
         500,
         550
        ],
        [
         1,
         "2011-01-22",
         250,
         266.6666666666667,
         3,
         50,
         500,
         800
        ],
        [
         1,
         "2011-01-24",
         75,
         218.75,
         4,
         50,
         500,
         875
        ],
        [
         1,
         "2011-01-26",
         125,
         200.0,
         5,
         50,
         500,
         1000
        ],
        [
         1,
         "2011-01-28",
         175,
         195.83333333333334,
         6,
         50,
         500,
         1175
        ],
        [
         2,
         "2011-01-01",
         500,
         500.0,
         1,
         500,
         500,
         500
        ],
        [
         2,
         "2011-01-15",
         50,
         275.0,
         2,
         50,
         500,
         550
        ],
        [
         2,
         "2011-01-22",
         25,
         191.66666666666666,
         3,
         25,
         500,
         575
        ],
        [
         2,
         "2011-01-23",
         125,
         175.0,
         4,
         25,
         500,
         700
        ],
        [
         2,
         "2011-01-26",
         200,
         180.0,
         5,
         25,
         500,
         900
        ],
        [
         2,
         "2011-01-29",
         250,
         191.66666666666666,
         6,
         25,
         500,
         1150
        ],
        [
         3,
         "2011-01-01",
         500,
         500.0,
         1,
         500,
         500,
         500
        ],
        [
         3,
         "2011-01-15",
         50,
         275.0,
         2,
         50,
         500,
         550
        ],
        [
         3,
         "2011-01-22",
         5000,
         1850.0,
         3,
         50,
         5000,
         5550
        ],
        [
         3,
         "2011-01-25",
         550,
         1525.0,
         4,
         50,
         5000,
         6100
        ],
        [
         3,
         "2011-01-27",
         95,
         1239.0,
         5,
         50,
         5000,
         6195
        ],
        [
         3,
         "2011-01-30",
         2500,
         1449.1666666666667,
         6,
         50,
         5000,
         8695
        ]
       ],
       "datasetInfos": [],
       "dbfsResultPath": null,
       "isJsonSchema": true,
       "metadata": {},
       "overflow": false,
       "plotOptions": {
        "customPlotOptions": {},
        "displayType": "table",
        "pivotAggregation": null,
        "pivotColumns": null,
        "xColumns": null,
        "yColumns": null
       },
       "removedWidgets": [],
       "schema": [
        {
         "metadata": "{}",
         "name": "AccountId",
         "type": "\"long\""
        },
        {
         "metadata": "{}",
         "name": "TranDate",
         "type": "\"string\""
        },
        {
         "metadata": "{}",
         "name": "TranAmt",
         "type": "\"long\""
        },
        {
         "metadata": "{}",
         "name": "RunAvg",
         "type": "\"double\""
        },
        {
         "metadata": "{}",
         "name": "RunTranQty",
         "type": "\"long\""
        },
        {
         "metadata": "{}",
         "name": "RunSmallAmt",
         "type": "\"long\""
        },
        {
         "metadata": "{}",
         "name": "RunLargeAmt",
         "type": "\"long\""
        },
        {
         "metadata": "{}",
         "name": "RunTotalAmt",
         "type": "\"long\""
        }
       ],
       "type": "table"
      }
     },
     "output_type": "display_data"
    }
   ],
   "source": [
    "window_spec = Window.partitionBy(\"AccountId\").orderBy(\"TranDate\")\n",
    "\n",
    "\n",
    "df_result = df1 \\\n",
    "    .withColumn(\"RunAvg\", avg(\"TranAmt\").over(window_spec)).withColumn(\"RunTranQty\", count(\"*\").over(window_spec)) \\\n",
    "    .withColumn(\"RunSmallAmt\", min(\"TranAmt\").over(window_spec)).withColumn(\"RunLargeAmt\", max(\"TranAmt\").over(window_spec)) \\\n",
    "    .withColumn(\"RunTotalAmt\", sum(\"TranAmt\").over(window_spec)).orderBy(\"AccountId\", \"TranDate\")\n",
    "\n",
    "display(df_result)"
   ]
  },
  {
   "cell_type": "code",
   "execution_count": 0,
   "metadata": {
    "application/vnd.databricks.v1+cell": {
     "cellMetadata": {
      "byteLimit": 2048000,
      "rowLimit": 10000
     },
     "inputWidgets": {},
     "nuid": "051c4ad2-8e8a-4334-a089-12c4a50e14a8",
     "showTitle": false,
     "tableResultSettingsMap": {},
     "title": ""
    }
   },
   "outputs": [
    {
     "output_type": "display_data",
     "data": {
      "text/html": [
       "<style scoped>\n",
       "  .table-result-container {\n",
       "    max-height: 300px;\n",
       "    overflow: auto;\n",
       "  }\n",
       "  table, th, td {\n",
       "    border: 1px solid black;\n",
       "    border-collapse: collapse;\n",
       "  }\n",
       "  th, td {\n",
       "    padding: 5px;\n",
       "  }\n",
       "  th {\n",
       "    text-align: left;\n",
       "  }\n",
       "</style><div class='table-result-container'><table class='table-result'><thead style='background-color: white'><tr><th>AccountId</th><th>TranDate</th><th>TranAmt</th><th>SlideAvg</th><th>SlideQty</th><th>SlideMin</th><th>SlideMax</th><th>SlideTotal</th><th>RN</th></tr></thead><tbody><tr><td>1</td><td>2011-01-01</td><td>500</td><td>500.0</td><td>1</td><td>500</td><td>500</td><td>500</td><td>1</td></tr><tr><td>1</td><td>2011-01-15</td><td>50</td><td>275.0</td><td>2</td><td>50</td><td>500</td><td>550</td><td>2</td></tr><tr><td>1</td><td>2011-01-22</td><td>250</td><td>266.6666666666667</td><td>3</td><td>50</td><td>500</td><td>800</td><td>3</td></tr><tr><td>1</td><td>2011-01-24</td><td>75</td><td>125.0</td><td>3</td><td>50</td><td>250</td><td>375</td><td>4</td></tr><tr><td>1</td><td>2011-01-26</td><td>125</td><td>150.0</td><td>3</td><td>75</td><td>250</td><td>450</td><td>5</td></tr><tr><td>1</td><td>2011-01-28</td><td>175</td><td>125.0</td><td>3</td><td>75</td><td>175</td><td>375</td><td>6</td></tr><tr><td>2</td><td>2011-01-01</td><td>500</td><td>500.0</td><td>1</td><td>500</td><td>500</td><td>500</td><td>1</td></tr><tr><td>2</td><td>2011-01-15</td><td>50</td><td>275.0</td><td>2</td><td>50</td><td>500</td><td>550</td><td>2</td></tr><tr><td>2</td><td>2011-01-22</td><td>25</td><td>191.66666666666666</td><td>3</td><td>25</td><td>500</td><td>575</td><td>3</td></tr><tr><td>2</td><td>2011-01-23</td><td>125</td><td>66.66666666666667</td><td>3</td><td>25</td><td>125</td><td>200</td><td>4</td></tr><tr><td>2</td><td>2011-01-26</td><td>200</td><td>116.66666666666667</td><td>3</td><td>25</td><td>200</td><td>350</td><td>5</td></tr><tr><td>2</td><td>2011-01-29</td><td>250</td><td>191.66666666666666</td><td>3</td><td>125</td><td>250</td><td>575</td><td>6</td></tr><tr><td>3</td><td>2011-01-01</td><td>500</td><td>500.0</td><td>1</td><td>500</td><td>500</td><td>500</td><td>1</td></tr><tr><td>3</td><td>2011-01-15</td><td>50</td><td>275.0</td><td>2</td><td>50</td><td>500</td><td>550</td><td>2</td></tr><tr><td>3</td><td>2011-01-22</td><td>5000</td><td>1850.0</td><td>3</td><td>50</td><td>5000</td><td>5550</td><td>3</td></tr><tr><td>3</td><td>2011-01-25</td><td>550</td><td>1866.6666666666667</td><td>3</td><td>50</td><td>5000</td><td>5600</td><td>4</td></tr><tr><td>3</td><td>2011-01-27</td><td>95</td><td>1881.6666666666667</td><td>3</td><td>95</td><td>5000</td><td>5645</td><td>5</td></tr><tr><td>3</td><td>2011-01-30</td><td>2500</td><td>1048.3333333333333</td><td>3</td><td>95</td><td>2500</td><td>3145</td><td>6</td></tr></tbody></table></div>"
      ]
     },
     "metadata": {
      "application/vnd.databricks.v1+output": {
       "addedWidgets": {},
       "aggData": [],
       "aggError": "",
       "aggOverflow": false,
       "aggSchema": [],
       "aggSeriesLimitReached": false,
       "aggType": "",
       "arguments": {},
       "columnCustomDisplayInfos": {},
       "data": [
        [
         1,
         "2011-01-01",
         500,
         500.0,
         1,
         500,
         500,
         500,
         1
        ],
        [
         1,
         "2011-01-15",
         50,
         275.0,
         2,
         50,
         500,
         550,
         2
        ],
        [
         1,
         "2011-01-22",
         250,
         266.6666666666667,
         3,
         50,
         500,
         800,
         3
        ],
        [
         1,
         "2011-01-24",
         75,
         125.0,
         3,
         50,
         250,
         375,
         4
        ],
        [
         1,
         "2011-01-26",
         125,
         150.0,
         3,
         75,
         250,
         450,
         5
        ],
        [
         1,
         "2011-01-28",
         175,
         125.0,
         3,
         75,
         175,
         375,
         6
        ],
        [
         2,
         "2011-01-01",
         500,
         500.0,
         1,
         500,
         500,
         500,
         1
        ],
        [
         2,
         "2011-01-15",
         50,
         275.0,
         2,
         50,
         500,
         550,
         2
        ],
        [
         2,
         "2011-01-22",
         25,
         191.66666666666666,
         3,
         25,
         500,
         575,
         3
        ],
        [
         2,
         "2011-01-23",
         125,
         66.66666666666667,
         3,
         25,
         125,
         200,
         4
        ],
        [
         2,
         "2011-01-26",
         200,
         116.66666666666667,
         3,
         25,
         200,
         350,
         5
        ],
        [
         2,
         "2011-01-29",
         250,
         191.66666666666666,
         3,
         125,
         250,
         575,
         6
        ],
        [
         3,
         "2011-01-01",
         500,
         500.0,
         1,
         500,
         500,
         500,
         1
        ],
        [
         3,
         "2011-01-15",
         50,
         275.0,
         2,
         50,
         500,
         550,
         2
        ],
        [
         3,
         "2011-01-22",
         5000,
         1850.0,
         3,
         50,
         5000,
         5550,
         3
        ],
        [
         3,
         "2011-01-25",
         550,
         1866.6666666666667,
         3,
         50,
         5000,
         5600,
         4
        ],
        [
         3,
         "2011-01-27",
         95,
         1881.6666666666667,
         3,
         95,
         5000,
         5645,
         5
        ],
        [
         3,
         "2011-01-30",
         2500,
         1048.3333333333333,
         3,
         95,
         2500,
         3145,
         6
        ]
       ],
       "datasetInfos": [],
       "dbfsResultPath": null,
       "isJsonSchema": true,
       "metadata": {},
       "overflow": false,
       "plotOptions": {
        "customPlotOptions": {},
        "displayType": "table",
        "pivotAggregation": null,
        "pivotColumns": null,
        "xColumns": null,
        "yColumns": null
       },
       "removedWidgets": [],
       "schema": [
        {
         "metadata": "{}",
         "name": "AccountId",
         "type": "\"long\""
        },
        {
         "metadata": "{}",
         "name": "TranDate",
         "type": "\"string\""
        },
        {
         "metadata": "{}",
         "name": "TranAmt",
         "type": "\"long\""
        },
        {
         "metadata": "{}",
         "name": "SlideAvg",
         "type": "\"double\""
        },
        {
         "metadata": "{}",
         "name": "SlideQty",
         "type": "\"long\""
        },
        {
         "metadata": "{}",
         "name": "SlideMin",
         "type": "\"long\""
        },
        {
         "metadata": "{}",
         "name": "SlideMax",
         "type": "\"long\""
        },
        {
         "metadata": "{}",
         "name": "SlideTotal",
         "type": "\"long\""
        },
        {
         "metadata": "{}",
         "name": "RN",
         "type": "\"integer\""
        }
       ],
       "type": "table"
      }
     },
     "output_type": "display_data"
    }
   ],
   "source": [
    "sliding_window = Window.partitionBy(\"AccountId\").orderBy(\"TranDate\").rowsBetween(-2, 0)\n",
    "\n",
    "rownum_window = Window.partitionBy(\"AccountId\").orderBy(\"TranDate\")\n",
    "\n",
    "df_sliding = df1.withColumn(\"SlideAvg\", avg(\"TranAmt\").over(sliding_window)).withColumn(\"SlideQty\", count(\"*\").over(sliding_window)) \\\n",
    "    .withColumn(\"SlideMin\", min(\"TranAmt\").over(sliding_window)).withColumn(\"SlideMax\", max(\"TranAmt\").over(sliding_window)) \\\n",
    "    .withColumn(\"SlideTotal\", sum(\"TranAmt\").over(sliding_window)).withColumn(\"RN\", row_number().over(rownum_window)).orderBy(\"AccountId\", \"TranDate\", \"RN\")\n",
    "\n",
    "display(df_sliding)"
   ]
  },
  {
   "cell_type": "code",
   "execution_count": 0,
   "metadata": {
    "application/vnd.databricks.v1+cell": {
     "cellMetadata": {
      "byteLimit": 2048000,
      "rowLimit": 10000
     },
     "inputWidgets": {},
     "nuid": "b21b3cec-5d0a-4f0d-9b28-6230b8b72b01",
     "showTitle": false,
     "tableResultSettingsMap": {},
     "title": ""
    }
   },
   "outputs": [
    {
     "output_type": "display_data",
     "data": {
      "text/html": [
       "<style scoped>\n",
       "  .table-result-container {\n",
       "    max-height: 300px;\n",
       "    overflow: auto;\n",
       "  }\n",
       "  table, th, td {\n",
       "    border: 1px solid black;\n",
       "    border-collapse: collapse;\n",
       "  }\n",
       "  th, td {\n",
       "    padding: 5px;\n",
       "  }\n",
       "  th {\n",
       "    text-align: left;\n",
       "  }\n",
       "</style><div class='table-result-container'><table class='table-result'><thead style='background-color: white'><tr><th>RowID</th><th>FName</th><th>Salary</th><th>SumByRows</th><th>SumByRange</th></tr></thead><tbody><tr><td>1</td><td>George</td><td>800</td><td>800</td><td>800</td></tr><tr><td>2</td><td>Sam</td><td>950</td><td>1750</td><td>1750</td></tr><tr><td>3</td><td>Diane</td><td>1100</td><td>2850</td><td>2850</td></tr><tr><td>4</td><td>Nicholas</td><td>1250</td><td>4100</td><td>5350</td></tr><tr><td>5</td><td>Samuel</td><td>1250</td><td>5350</td><td>5350</td></tr><tr><td>6</td><td>Patricia</td><td>1300</td><td>6650</td><td>6650</td></tr><tr><td>7</td><td>Brian</td><td>1500</td><td>8150</td><td>8150</td></tr><tr><td>8</td><td>Thomas</td><td>1600</td><td>9750</td><td>9750</td></tr><tr><td>9</td><td>Fran</td><td>2450</td><td>12200</td><td>12200</td></tr><tr><td>10</td><td>Debbie</td><td>2850</td><td>15050</td><td>15050</td></tr><tr><td>11</td><td>Mark</td><td>2975</td><td>18025</td><td>18025</td></tr><tr><td>12</td><td>James</td><td>3000</td><td>21025</td><td>24025</td></tr><tr><td>13</td><td>Cynthia</td><td>3000</td><td>24025</td><td>24025</td></tr><tr><td>14</td><td>Christopher</td><td>5000</td><td>29025</td><td>29025</td></tr></tbody></table></div>"
      ]
     },
     "metadata": {
      "application/vnd.databricks.v1+output": {
       "addedWidgets": {},
       "aggData": [],
       "aggError": "",
       "aggOverflow": false,
       "aggSchema": [],
       "aggSeriesLimitReached": false,
       "aggType": "",
       "arguments": {},
       "columnCustomDisplayInfos": {},
       "data": [
        [
         1,
         "George",
         800,
         800,
         800
        ],
        [
         2,
         "Sam",
         950,
         1750,
         1750
        ],
        [
         3,
         "Diane",
         1100,
         2850,
         2850
        ],
        [
         4,
         "Nicholas",
         1250,
         4100,
         5350
        ],
        [
         5,
         "Samuel",
         1250,
         5350,
         5350
        ],
        [
         6,
         "Patricia",
         1300,
         6650,
         6650
        ],
        [
         7,
         "Brian",
         1500,
         8150,
         8150
        ],
        [
         8,
         "Thomas",
         1600,
         9750,
         9750
        ],
        [
         9,
         "Fran",
         2450,
         12200,
         12200
        ],
        [
         10,
         "Debbie",
         2850,
         15050,
         15050
        ],
        [
         11,
         "Mark",
         2975,
         18025,
         18025
        ],
        [
         12,
         "James",
         3000,
         21025,
         24025
        ],
        [
         13,
         "Cynthia",
         3000,
         24025,
         24025
        ],
        [
         14,
         "Christopher",
         5000,
         29025,
         29025
        ]
       ],
       "datasetInfos": [],
       "dbfsResultPath": null,
       "isJsonSchema": true,
       "metadata": {},
       "overflow": false,
       "plotOptions": {
        "customPlotOptions": {},
        "displayType": "table",
        "pivotAggregation": null,
        "pivotColumns": null,
        "xColumns": null,
        "yColumns": null
       },
       "removedWidgets": [],
       "schema": [
        {
         "metadata": "{}",
         "name": "RowID",
         "type": "\"long\""
        },
        {
         "metadata": "{}",
         "name": "FName",
         "type": "\"string\""
        },
        {
         "metadata": "{}",
         "name": "Salary",
         "type": "\"long\""
        },
        {
         "metadata": "{}",
         "name": "SumByRows",
         "type": "\"long\""
        },
        {
         "metadata": "{}",
         "name": "SumByRange",
         "type": "\"long\""
        }
       ],
       "type": "table"
      }
     },
     "output_type": "display_data"
    }
   ],
   "source": [
    "rows_window = Window.orderBy(\"Salary\").rowsBetween(Window.unboundedPreceding, Window.currentRow)\n",
    "\n",
    "range_window = Window.orderBy(\"Salary\").rangeBetween(Window.unboundedPreceding, Window.currentRow)\n",
    "\n",
    "df_range_rows = df2.withColumn(\"SumByRows\", sum(\"Salary\").over(rows_window)).withColumn(\"SumByRange\", sum(\"Salary\").over(range_window)).orderBy(\"RowID\")\n",
    "\n",
    "display(df_range_rows.select(\"RowID\", \"FName\", \"Salary\", \"SumByRows\", \"SumByRange\"))"
   ]
  },
  {
   "cell_type": "markdown",
   "metadata": {
    "application/vnd.databricks.v1+cell": {
     "cellMetadata": {},
     "inputWidgets": {},
     "nuid": "d98e3e9a-3c13-4dff-ac31-a3aaf782d17a",
     "showTitle": false,
     "tableResultSettingsMap": {},
     "title": ""
    }
   },
   "source": [
    "Użycie funkcji okienkowych LEAD, LAG, FIRST_VALUE, LAST_VALUE, ROW_NUMBER "
   ]
  },
  {
   "cell_type": "code",
   "execution_count": 0,
   "metadata": {
    "application/vnd.databricks.v1+cell": {
     "cellMetadata": {
      "byteLimit": 2048000,
      "rowLimit": 10000
     },
     "inputWidgets": {},
     "nuid": "5b36f096-3f5f-40df-b5c6-eeee6f034b1d",
     "showTitle": false,
     "tableResultSettingsMap": {},
     "title": ""
    }
   },
   "outputs": [
    {
     "output_type": "display_data",
     "data": {
      "text/html": [
       "<style scoped>\n",
       "  .table-result-container {\n",
       "    max-height: 300px;\n",
       "    overflow: auto;\n",
       "  }\n",
       "  table, th, td {\n",
       "    border: 1px solid black;\n",
       "    border-collapse: collapse;\n",
       "  }\n",
       "  th, td {\n",
       "    padding: 5px;\n",
       "  }\n",
       "  th {\n",
       "    text-align: left;\n",
       "  }\n",
       "</style><div class='table-result-container'><table class='table-result'><thead style='background-color: white'><tr><th>AccountId</th><th>TranDate</th><th>TranAmt</th><th>PrevTranAmt</th><th>NextTranAmt</th><th>FirstTranAmt</th><th>LastTranAmt</th><th>RowNum</th></tr></thead><tbody><tr><td>1</td><td>2011-01-01</td><td>500</td><td>null</td><td>50</td><td>500</td><td>500</td><td>1</td></tr><tr><td>1</td><td>2011-01-15</td><td>50</td><td>500</td><td>250</td><td>500</td><td>50</td><td>2</td></tr><tr><td>1</td><td>2011-01-22</td><td>250</td><td>50</td><td>75</td><td>500</td><td>250</td><td>3</td></tr><tr><td>1</td><td>2011-01-24</td><td>75</td><td>250</td><td>125</td><td>500</td><td>75</td><td>4</td></tr><tr><td>1</td><td>2011-01-26</td><td>125</td><td>75</td><td>175</td><td>500</td><td>125</td><td>5</td></tr><tr><td>1</td><td>2011-01-28</td><td>175</td><td>125</td><td>null</td><td>500</td><td>175</td><td>6</td></tr><tr><td>2</td><td>2011-01-01</td><td>500</td><td>null</td><td>50</td><td>500</td><td>500</td><td>1</td></tr><tr><td>2</td><td>2011-01-15</td><td>50</td><td>500</td><td>25</td><td>500</td><td>50</td><td>2</td></tr><tr><td>2</td><td>2011-01-22</td><td>25</td><td>50</td><td>125</td><td>500</td><td>25</td><td>3</td></tr><tr><td>2</td><td>2011-01-23</td><td>125</td><td>25</td><td>200</td><td>500</td><td>125</td><td>4</td></tr><tr><td>2</td><td>2011-01-26</td><td>200</td><td>125</td><td>250</td><td>500</td><td>200</td><td>5</td></tr><tr><td>2</td><td>2011-01-29</td><td>250</td><td>200</td><td>null</td><td>500</td><td>250</td><td>6</td></tr><tr><td>3</td><td>2011-01-01</td><td>500</td><td>null</td><td>50</td><td>500</td><td>500</td><td>1</td></tr><tr><td>3</td><td>2011-01-15</td><td>50</td><td>500</td><td>5000</td><td>500</td><td>50</td><td>2</td></tr><tr><td>3</td><td>2011-01-22</td><td>5000</td><td>50</td><td>550</td><td>500</td><td>5000</td><td>3</td></tr><tr><td>3</td><td>2011-01-25</td><td>550</td><td>5000</td><td>95</td><td>500</td><td>550</td><td>4</td></tr><tr><td>3</td><td>2011-01-27</td><td>95</td><td>550</td><td>2500</td><td>500</td><td>95</td><td>5</td></tr><tr><td>3</td><td>2011-01-30</td><td>2500</td><td>95</td><td>null</td><td>500</td><td>2500</td><td>6</td></tr></tbody></table></div>"
      ]
     },
     "metadata": {
      "application/vnd.databricks.v1+output": {
       "addedWidgets": {},
       "aggData": [],
       "aggError": "",
       "aggOverflow": false,
       "aggSchema": [],
       "aggSeriesLimitReached": false,
       "aggType": "",
       "arguments": {},
       "columnCustomDisplayInfos": {},
       "data": [
        [
         1,
         "2011-01-01",
         500,
         null,
         50,
         500,
         500,
         1
        ],
        [
         1,
         "2011-01-15",
         50,
         500,
         250,
         500,
         50,
         2
        ],
        [
         1,
         "2011-01-22",
         250,
         50,
         75,
         500,
         250,
         3
        ],
        [
         1,
         "2011-01-24",
         75,
         250,
         125,
         500,
         75,
         4
        ],
        [
         1,
         "2011-01-26",
         125,
         75,
         175,
         500,
         125,
         5
        ],
        [
         1,
         "2011-01-28",
         175,
         125,
         null,
         500,
         175,
         6
        ],
        [
         2,
         "2011-01-01",
         500,
         null,
         50,
         500,
         500,
         1
        ],
        [
         2,
         "2011-01-15",
         50,
         500,
         25,
         500,
         50,
         2
        ],
        [
         2,
         "2011-01-22",
         25,
         50,
         125,
         500,
         25,
         3
        ],
        [
         2,
         "2011-01-23",
         125,
         25,
         200,
         500,
         125,
         4
        ],
        [
         2,
         "2011-01-26",
         200,
         125,
         250,
         500,
         200,
         5
        ],
        [
         2,
         "2011-01-29",
         250,
         200,
         null,
         500,
         250,
         6
        ],
        [
         3,
         "2011-01-01",
         500,
         null,
         50,
         500,
         500,
         1
        ],
        [
         3,
         "2011-01-15",
         50,
         500,
         5000,
         500,
         50,
         2
        ],
        [
         3,
         "2011-01-22",
         5000,
         50,
         550,
         500,
         5000,
         3
        ],
        [
         3,
         "2011-01-25",
         550,
         5000,
         95,
         500,
         550,
         4
        ],
        [
         3,
         "2011-01-27",
         95,
         550,
         2500,
         500,
         95,
         5
        ],
        [
         3,
         "2011-01-30",
         2500,
         95,
         null,
         500,
         2500,
         6
        ]
       ],
       "datasetInfos": [],
       "dbfsResultPath": null,
       "isJsonSchema": true,
       "metadata": {},
       "overflow": false,
       "plotOptions": {
        "customPlotOptions": {},
        "displayType": "table",
        "pivotAggregation": null,
        "pivotColumns": null,
        "xColumns": null,
        "yColumns": null
       },
       "removedWidgets": [],
       "schema": [
        {
         "metadata": "{}",
         "name": "AccountId",
         "type": "\"long\""
        },
        {
         "metadata": "{}",
         "name": "TranDate",
         "type": "\"string\""
        },
        {
         "metadata": "{}",
         "name": "TranAmt",
         "type": "\"long\""
        },
        {
         "metadata": "{}",
         "name": "PrevTranAmt",
         "type": "\"long\""
        },
        {
         "metadata": "{}",
         "name": "NextTranAmt",
         "type": "\"long\""
        },
        {
         "metadata": "{}",
         "name": "FirstTranAmt",
         "type": "\"long\""
        },
        {
         "metadata": "{}",
         "name": "LastTranAmt",
         "type": "\"long\""
        },
        {
         "metadata": "{}",
         "name": "RowNum",
         "type": "\"integer\""
        }
       ],
       "type": "table"
      }
     },
     "output_type": "display_data"
    }
   ],
   "source": [
    "win = Window.partitionBy(\"AccountId\").orderBy(\"TranDate\")\n",
    "\n",
    "df_windowed = (\n",
    "    df1\n",
    "    # pobiera wartość TranAmt z poprzedniego wiersza\n",
    "    .withColumn(\"PrevTranAmt\", lag(\"TranAmt\", 1).over(win))\n",
    "    \n",
    "    # pobiera wartość TranAmt z następnego wiersza\n",
    "    .withColumn(\"NextTranAmt\", lead(\"TranAmt\", 1).over(win))\n",
    "    \n",
    "    # pokazuje pierwszą kwotę transakcji dla danego konta\n",
    "    .withColumn(\"FirstTranAmt\", first(\"TranAmt\").over(win))\n",
    "    \n",
    "    # pokazuje ostatnią kwotę transakcji do tego momentu dla danego konta\n",
    "    .withColumn(\"LastTranAmt\", last(\"TranAmt\").over(win))\n",
    "    \n",
    "    # nadaje numer porządkowy każdej transakcji\n",
    "    .withColumn(\"RowNum\", row_number().over(win))\n",
    ")\n",
    "display(df_windowed)"
   ]
  }
 ],
 "metadata": {
  "application/vnd.databricks.v1+notebook": {
   "computePreferences": null,
   "dashboards": [],
   "environmentMetadata": {
    "base_environment": "",
    "environment_version": "1"
   },
   "inputWidgetPreferences": null,
   "language": "python",
   "notebookMetadata": {
    "pythonIndentUnit": 4
   },
   "notebookName": "Notebook2",
   "widgets": {}
  }
 },
 "nbformat": 4,
 "nbformat_minor": 0
}